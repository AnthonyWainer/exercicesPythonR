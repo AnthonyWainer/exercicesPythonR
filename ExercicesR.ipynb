{
 "cells": [
  {
   "cell_type": "markdown",
   "metadata": {
    "colab_type": "text",
    "deletable": true,
    "editable": true,
    "id": "lwvX-Kk-VoEV"
   },
   "source": [
    "# Importing Libraries\n"
   ]
  },
  {
   "cell_type": "code",
   "execution_count": null,
   "metadata": {
    "collapsed": true
   },
   "outputs": [],
   "source": [
    "library(LearnBayes)"
   ]
  },
  {
   "cell_type": "markdown",
   "metadata": {
    "colab_type": "text",
    "deletable": true,
    "editable": true,
    "id": "L2xYNADeWLOL"
   },
   "source": [
    "#  Exercises developed in R\n",
    "*Albert, J. Bayesian Computation with R Second Edition Springer 2009*"
   ]
  },
  {
   "cell_type": "markdown",
   "metadata": {},
   "source": [
    "### **Question 4 - Pag.16.** Performance of the traditional confidence interval for a proportion"
   ]
  },
  {
   "cell_type": "markdown",
   "metadata": {
    "colab_type": "text",
    "deletable": true,
    "editable": true,
    "id": "2nkAN-sAeqVW"
   },
   "source": [
    "Suppose one observes y that is binomially distributed with sample size n\n",
    "and probability of success p. \n",
    "The standard 90% confidence interval for p\n",
    "is given by\n",
    "\n",
    "> $C(y) = (p − 1.645 \\sqrt{\\frac{p(1 − p)}{\n",
    "n}}, p + 1.645 \\sqrt{\\frac{p(1 − p)}{\n",
    "n}})$\n",
    "\n",
    "where $p = \\frac{y}{n} $. We use this procedure under the assumption that\n",
    "> $P(p ∈ C(y)) = 0.90 $ for all  $0 < p < 1$\n",
    "\n",
    "The function binomial.conf.interval will return the limits of a 90%\n",
    "confidence interval given values of y and n.\n",
    "\n",
    "a) Read the function binomial.conf.interval into R"
   ]
  },
  {
   "cell_type": "code",
   "execution_count": 17,
   "metadata": {
    "colab": {},
    "colab_type": "code",
    "collapsed": true,
    "deletable": true,
    "editable": true,
    "id": "yWfAlTPWwEPB"
   },
   "outputs": [],
   "source": [
    "binomial.conf.interval = function(y,n){\n",
    "    z = qnorm(.95)\n",
    "    phat = y/n\n",
    "    se = sqrt(phat*(1-phat)/n)\n",
    "    return (c(phat-z*se,phat+z*se))\n",
    "}"
   ]
  },
  {
   "cell_type": "markdown",
   "metadata": {},
   "source": [
    "b) Suppose that samples of size n = 20 are taken and the true value\n",
    "of the proportion is p = .5. Using the rbinom command, simulate\n",
    "a value of y and use binomial.conf.interval to compute the 90%\n",
    "confidence interval. Repeat this a total of 20 times, and estimate the\n",
    "true probability of coverage P(p ∈ C(y))."
   ]
  },
  {
   "cell_type": "code",
   "execution_count": 18,
   "metadata": {
    "colab": {
     "base_uri": "https://localhost:8080/",
     "height": 161
    },
    "colab_type": "code",
    "collapsed": false,
    "deletable": true,
    "editable": true,
    "id": "cTo0cQtGB539",
    "outputId": "8fa35517-3ca6-4262-b916-3047b2359cb7"
   },
   "outputs": [
    {
     "data": {
      "text/html": [
       "<ol class=list-inline>\n",
       "\t<li>0.219815312944898</li>\n",
       "\t<li>0.316099773854971</li>\n",
       "\t<li>0.419815312944898</li>\n",
       "\t<li>0.26702158530463</li>\n",
       "\t<li>0.36702158530463</li>\n",
       "\t<li>0.219815312944898</li>\n",
       "\t<li>0.419815312944898</li>\n",
       "\t<li>0.219815312944898</li>\n",
       "\t<li>0.590737732396702</li>\n",
       "\t<li>0.316099773854971</li>\n",
       "\t<li>0.26702158530463</li>\n",
       "\t<li>0.26702158530463</li>\n",
       "\t<li>0.474570365130816</li>\n",
       "\t<li>0.36702158530463</li>\n",
       "\t<li>0.419815312944898</li>\n",
       "\t<li>0.219815312944898</li>\n",
       "\t<li>0.36702158530463</li>\n",
       "\t<li>0.26702158530463</li>\n",
       "\t<li>0.316099773854971</li>\n",
       "\t<li>0.474570365130816</li>\n",
       "\t<li>0.580184687055102</li>\n",
       "\t<li>0.683900226145029</li>\n",
       "\t<li>0.780184687055102</li>\n",
       "\t<li>0.63297841469537</li>\n",
       "\t<li>0.73297841469537</li>\n",
       "\t<li>0.580184687055102</li>\n",
       "\t<li>0.780184687055102</li>\n",
       "\t<li>0.580184687055102</li>\n",
       "\t<li>0.909262267603298</li>\n",
       "\t<li>0.683900226145029</li>\n",
       "\t<li>0.63297841469537</li>\n",
       "\t<li>0.63297841469537</li>\n",
       "\t<li>0.825429634869184</li>\n",
       "\t<li>0.73297841469537</li>\n",
       "\t<li>0.780184687055102</li>\n",
       "\t<li>0.580184687055102</li>\n",
       "\t<li>0.73297841469537</li>\n",
       "\t<li>0.63297841469537</li>\n",
       "\t<li>0.683900226145029</li>\n",
       "\t<li>0.825429634869184</li>\n",
       "</ol>\n"
      ],
      "text/latex": [
       "\\begin{enumerate*}\n",
       "\\item 0.219815312944898\n",
       "\\item 0.316099773854971\n",
       "\\item 0.419815312944898\n",
       "\\item 0.26702158530463\n",
       "\\item 0.36702158530463\n",
       "\\item 0.219815312944898\n",
       "\\item 0.419815312944898\n",
       "\\item 0.219815312944898\n",
       "\\item 0.590737732396702\n",
       "\\item 0.316099773854971\n",
       "\\item 0.26702158530463\n",
       "\\item 0.26702158530463\n",
       "\\item 0.474570365130816\n",
       "\\item 0.36702158530463\n",
       "\\item 0.419815312944898\n",
       "\\item 0.219815312944898\n",
       "\\item 0.36702158530463\n",
       "\\item 0.26702158530463\n",
       "\\item 0.316099773854971\n",
       "\\item 0.474570365130816\n",
       "\\item 0.580184687055102\n",
       "\\item 0.683900226145029\n",
       "\\item 0.780184687055102\n",
       "\\item 0.63297841469537\n",
       "\\item 0.73297841469537\n",
       "\\item 0.580184687055102\n",
       "\\item 0.780184687055102\n",
       "\\item 0.580184687055102\n",
       "\\item 0.909262267603298\n",
       "\\item 0.683900226145029\n",
       "\\item 0.63297841469537\n",
       "\\item 0.63297841469537\n",
       "\\item 0.825429634869184\n",
       "\\item 0.73297841469537\n",
       "\\item 0.780184687055102\n",
       "\\item 0.580184687055102\n",
       "\\item 0.73297841469537\n",
       "\\item 0.63297841469537\n",
       "\\item 0.683900226145029\n",
       "\\item 0.825429634869184\n",
       "\\end{enumerate*}\n"
      ],
      "text/markdown": [
       "1. 0.219815312944898\n",
       "2. 0.316099773854971\n",
       "3. 0.419815312944898\n",
       "4. 0.26702158530463\n",
       "5. 0.36702158530463\n",
       "6. 0.219815312944898\n",
       "7. 0.419815312944898\n",
       "8. 0.219815312944898\n",
       "9. 0.590737732396702\n",
       "10. 0.316099773854971\n",
       "11. 0.26702158530463\n",
       "12. 0.26702158530463\n",
       "13. 0.474570365130816\n",
       "14. 0.36702158530463\n",
       "15. 0.419815312944898\n",
       "16. 0.219815312944898\n",
       "17. 0.36702158530463\n",
       "18. 0.26702158530463\n",
       "19. 0.316099773854971\n",
       "20. 0.474570365130816\n",
       "21. 0.580184687055102\n",
       "22. 0.683900226145029\n",
       "23. 0.780184687055102\n",
       "24. 0.63297841469537\n",
       "25. 0.73297841469537\n",
       "26. 0.580184687055102\n",
       "27. 0.780184687055102\n",
       "28. 0.580184687055102\n",
       "29. 0.909262267603298\n",
       "30. 0.683900226145029\n",
       "31. 0.63297841469537\n",
       "32. 0.63297841469537\n",
       "33. 0.825429634869184\n",
       "34. 0.73297841469537\n",
       "35. 0.780184687055102\n",
       "36. 0.580184687055102\n",
       "37. 0.73297841469537\n",
       "38. 0.63297841469537\n",
       "39. 0.683900226145029\n",
       "40. 0.825429634869184\n",
       "\n",
       "\n"
      ],
      "text/plain": [
       " [1] 0.2198153 0.3160998 0.4198153 0.2670216 0.3670216 0.2198153 0.4198153\n",
       " [8] 0.2198153 0.5907377 0.3160998 0.2670216 0.2670216 0.4745704 0.3670216\n",
       "[15] 0.4198153 0.2198153 0.3670216 0.2670216 0.3160998 0.4745704 0.5801847\n",
       "[22] 0.6839002 0.7801847 0.6329784 0.7329784 0.5801847 0.7801847 0.5801847\n",
       "[29] 0.9092623 0.6839002 0.6329784 0.6329784 0.8254296 0.7329784 0.7801847\n",
       "[36] 0.5801847 0.7329784 0.6329784 0.6839002 0.8254296"
      ]
     },
     "metadata": {},
     "output_type": "display_data"
    }
   ],
   "source": [
    "p = .5\n",
    "n = 20\n",
    "\n",
    "y_bin = rbinom(n, n, p)\n",
    "\n",
    "binomial.conf.interval(y_bin, n)"
   ]
  },
  {
   "cell_type": "markdown",
   "metadata": {},
   "source": [
    "c) Suppose that n = 20 and the true value of the proportion is p = .05.\n",
    "Simulate 20 binomial random variates with n = 20 and p = .05, and\n",
    "for each simulated y compute a 90% confidence interval. Estimate the\n",
    "true probability of coverage."
   ]
  },
  {
   "cell_type": "code",
   "execution_count": 19,
   "metadata": {
    "colab": {
     "base_uri": "https://localhost:8080/",
     "height": 161
    },
    "colab_type": "code",
    "collapsed": false,
    "deletable": true,
    "editable": true,
    "id": "LU0oFU6NToj2",
    "outputId": "826dce65-5ebe-4f06-b1fd-0de9c326cd1c"
   },
   "outputs": [
    {
     "data": {
      "text/html": [
       "<ol class=list-inline>\n",
       "\t<li>-0.0301602501460456</li>\n",
       "\t<li>-0.0103401356870171</li>\n",
       "\t<li>-0.0301602501460456</li>\n",
       "\t<li>-0.0103401356870171</li>\n",
       "\t<li>-0.0301602501460456</li>\n",
       "\t<li>-0.0103401356870171</li>\n",
       "\t<li>-0.0103401356870171</li>\n",
       "\t<li>0</li>\n",
       "\t<li>-0.0301602501460456</li>\n",
       "\t<li>0</li>\n",
       "\t<li>-0.0103401356870171</li>\n",
       "\t<li>-0.0301602501460456</li>\n",
       "\t<li>0</li>\n",
       "\t<li>0</li>\n",
       "\t<li>0</li>\n",
       "\t<li>0</li>\n",
       "\t<li>-0.0301602501460456</li>\n",
       "\t<li>-0.0301602501460456</li>\n",
       "\t<li>-0.0103401356870171</li>\n",
       "\t<li>0</li>\n",
       "\t<li>0.130160250146046</li>\n",
       "\t<li>0.210340135687017</li>\n",
       "\t<li>0.130160250146046</li>\n",
       "\t<li>0.210340135687017</li>\n",
       "\t<li>0.130160250146046</li>\n",
       "\t<li>0.210340135687017</li>\n",
       "\t<li>0.210340135687017</li>\n",
       "\t<li>0</li>\n",
       "\t<li>0.130160250146046</li>\n",
       "\t<li>0</li>\n",
       "\t<li>0.210340135687017</li>\n",
       "\t<li>0.130160250146046</li>\n",
       "\t<li>0</li>\n",
       "\t<li>0</li>\n",
       "\t<li>0</li>\n",
       "\t<li>0</li>\n",
       "\t<li>0.130160250146046</li>\n",
       "\t<li>0.130160250146046</li>\n",
       "\t<li>0.210340135687017</li>\n",
       "\t<li>0</li>\n",
       "</ol>\n"
      ],
      "text/latex": [
       "\\begin{enumerate*}\n",
       "\\item -0.0301602501460456\n",
       "\\item -0.0103401356870171\n",
       "\\item -0.0301602501460456\n",
       "\\item -0.0103401356870171\n",
       "\\item -0.0301602501460456\n",
       "\\item -0.0103401356870171\n",
       "\\item -0.0103401356870171\n",
       "\\item 0\n",
       "\\item -0.0301602501460456\n",
       "\\item 0\n",
       "\\item -0.0103401356870171\n",
       "\\item -0.0301602501460456\n",
       "\\item 0\n",
       "\\item 0\n",
       "\\item 0\n",
       "\\item 0\n",
       "\\item -0.0301602501460456\n",
       "\\item -0.0301602501460456\n",
       "\\item -0.0103401356870171\n",
       "\\item 0\n",
       "\\item 0.130160250146046\n",
       "\\item 0.210340135687017\n",
       "\\item 0.130160250146046\n",
       "\\item 0.210340135687017\n",
       "\\item 0.130160250146046\n",
       "\\item 0.210340135687017\n",
       "\\item 0.210340135687017\n",
       "\\item 0\n",
       "\\item 0.130160250146046\n",
       "\\item 0\n",
       "\\item 0.210340135687017\n",
       "\\item 0.130160250146046\n",
       "\\item 0\n",
       "\\item 0\n",
       "\\item 0\n",
       "\\item 0\n",
       "\\item 0.130160250146046\n",
       "\\item 0.130160250146046\n",
       "\\item 0.210340135687017\n",
       "\\item 0\n",
       "\\end{enumerate*}\n"
      ],
      "text/markdown": [
       "1. -0.0301602501460456\n",
       "2. -0.0103401356870171\n",
       "3. -0.0301602501460456\n",
       "4. -0.0103401356870171\n",
       "5. -0.0301602501460456\n",
       "6. -0.0103401356870171\n",
       "7. -0.0103401356870171\n",
       "8. 0\n",
       "9. -0.0301602501460456\n",
       "10. 0\n",
       "11. -0.0103401356870171\n",
       "12. -0.0301602501460456\n",
       "13. 0\n",
       "14. 0\n",
       "15. 0\n",
       "16. 0\n",
       "17. -0.0301602501460456\n",
       "18. -0.0301602501460456\n",
       "19. -0.0103401356870171\n",
       "20. 0\n",
       "21. 0.130160250146046\n",
       "22. 0.210340135687017\n",
       "23. 0.130160250146046\n",
       "24. 0.210340135687017\n",
       "25. 0.130160250146046\n",
       "26. 0.210340135687017\n",
       "27. 0.210340135687017\n",
       "28. 0\n",
       "29. 0.130160250146046\n",
       "30. 0\n",
       "31. 0.210340135687017\n",
       "32. 0.130160250146046\n",
       "33. 0\n",
       "34. 0\n",
       "35. 0\n",
       "36. 0\n",
       "37. 0.130160250146046\n",
       "38. 0.130160250146046\n",
       "39. 0.210340135687017\n",
       "40. 0\n",
       "\n",
       "\n"
      ],
      "text/plain": [
       " [1] -0.03016025 -0.01034014 -0.03016025 -0.01034014 -0.03016025 -0.01034014\n",
       " [7] -0.01034014  0.00000000 -0.03016025  0.00000000 -0.01034014 -0.03016025\n",
       "[13]  0.00000000  0.00000000  0.00000000  0.00000000 -0.03016025 -0.03016025\n",
       "[19] -0.01034014  0.00000000  0.13016025  0.21034014  0.13016025  0.21034014\n",
       "[25]  0.13016025  0.21034014  0.21034014  0.00000000  0.13016025  0.00000000\n",
       "[31]  0.21034014  0.13016025  0.00000000  0.00000000  0.00000000  0.00000000\n",
       "[37]  0.13016025  0.13016025  0.21034014  0.00000000"
      ]
     },
     "metadata": {},
     "output_type": "display_data"
    }
   ],
   "source": [
    "p = .05\n",
    "n = 20\n",
    "\n",
    "y_bin = rbinom(n, n, p)\n",
    "\n",
    "binomial.conf.interval(y_bin, n)"
   ]
  },
  {
   "cell_type": "markdown",
   "metadata": {},
   "source": [
    "### **Question 3 - Pag.36.** Estimating a proportion and prediction of a future sample."
   ]
  },
  {
   "cell_type": "markdown",
   "metadata": {
    "colab_type": "text",
    "deletable": true,
    "editable": true,
    "id": "Xs2GAF1ld-1W"
   },
   "source": [
    "A study reported on the long-term effects of exposure to low levels of\n",
    "lead in childhood. Researchers analyzed children’s shed primary teeth for\n",
    "lead content. Of the children whose teeth had a lead content of more than\n",
    "22.22 parts per million (ppm), 22 eventually graduated from high school\n",
    "and 7 did not. Suppose your prior density for p, the proportion of all such\n",
    "children who will graduate from high school, is beta(1, 1), and so your\n",
    "posterior density is beta(23, 8).\n",
    "\n",
    "a) Use the function qbeta to find a 90% interval estimate for p."
   ]
  },
  {
   "cell_type": "code",
   "execution_count": 20,
   "metadata": {
    "colab": {
     "base_uri": "https://localhost:8080/",
     "height": 35
    },
    "colab_type": "code",
    "collapsed": false,
    "deletable": true,
    "editable": true,
    "id": "r5ICYaiDfKGa",
    "outputId": "5040172f-0e79-4953-88db-cb27cd93faf6"
   },
   "outputs": [
    {
     "data": {
      "text/html": [
       "<ol class=list-inline>\n",
       "\t<li>0.606052577477637</li>\n",
       "\t<li>0.859814900532232</li>\n",
       "</ol>\n"
      ],
      "text/latex": [
       "\\begin{enumerate*}\n",
       "\\item 0.606052577477637\n",
       "\\item 0.859814900532232\n",
       "\\end{enumerate*}\n"
      ],
      "text/markdown": [
       "1. 0.606052577477637\n",
       "2. 0.859814900532232\n",
       "\n",
       "\n"
      ],
      "text/plain": [
       "[1] 0.6060526 0.8598149"
      ]
     },
     "metadata": {},
     "output_type": "display_data"
    }
   ],
   "source": [
    "p = c(0.05, 0.95)\n",
    "\n",
    "qbeta(p, 23, 8)"
   ]
  },
  {
   "cell_type": "markdown",
   "metadata": {},
   "source": [
    "b) Use the function pbeta to find the probability that p exceeds .6"
   ]
  },
  {
   "cell_type": "code",
   "execution_count": 21,
   "metadata": {
    "colab": {
     "base_uri": "https://localhost:8080/",
     "height": 35
    },
    "colab_type": "code",
    "collapsed": false,
    "deletable": true,
    "editable": true,
    "id": "wiNN2SJDkaLh",
    "outputId": "e0e1acac-d6c9-4441-9b24-655594ffdb3b"
   },
   "outputs": [
    {
     "data": {
      "text/html": [
       "0.956475881003445"
      ],
      "text/latex": [
       "0.956475881003445"
      ],
      "text/markdown": [
       "0.956475881003445"
      ],
      "text/plain": [
       "[1] 0.9564759"
      ]
     },
     "metadata": {},
     "output_type": "display_data"
    }
   ],
   "source": [
    "1 - pbeta(.6, 23, 8)"
   ]
  },
  {
   "cell_type": "markdown",
   "metadata": {},
   "source": [
    "c) Use the function rbeta to take a simulated sample of size 1000 from\n",
    "the posterior distribution of p."
   ]
  },
  {
   "cell_type": "code",
   "execution_count": 22,
   "metadata": {
    "colab": {
     "base_uri": "https://localhost:8080/",
     "height": 35
    },
    "colab_type": "code",
    "collapsed": false,
    "deletable": true,
    "editable": true,
    "id": "LYv8sGZjkfnG",
    "outputId": "0af49bc9-d0c4-4ca2-f0bd-43bca6fb81c1"
   },
   "outputs": [
    {
     "data": {
      "text/html": [
       "<ol class=list-inline>\n",
       "\t<li>1</li>\n",
       "\t<li>1</li>\n",
       "</ol>\n"
      ],
      "text/latex": [
       "\\begin{enumerate*}\n",
       "\\item 1\n",
       "\\item 1\n",
       "\\end{enumerate*}\n"
      ],
      "text/markdown": [
       "1. 1\n",
       "2. 1\n",
       "\n",
       "\n"
      ],
      "text/plain": [
       "[1] 1 1"
      ]
     },
     "metadata": {},
     "output_type": "display_data"
    }
   ],
   "source": [
    "p= rbeta(1000, 23, 8)\n",
    "\n",
    "pbeta(c(23,8), 10, c(9,10))"
   ]
  },
  {
   "cell_type": "markdown",
   "metadata": {},
   "source": [
    "d) Suppose you find ten more children who have a lead content of more\n",
    "than 22.22 ppm. Find the predictive probability that nine or ten of\n",
    "them will graduate from high school. (Use your simulated sample from\n",
    "part (c) and the rbinom function to take a simulated sample from the\n",
    "predictive distribution.)"
   ]
  },
  {
   "cell_type": "code",
   "execution_count": 23,
   "metadata": {
    "colab": {
     "base_uri": "https://localhost:8080/",
     "height": 1000
    },
    "colab_type": "code",
    "collapsed": false,
    "deletable": true,
    "editable": true,
    "id": "GeCzVn4IkpXz",
    "outputId": "d8620d30-23f4-4ac9-8495-9a3130fac179"
   },
   "outputs": [
    {
     "data": {
      "text/plain": [
       "\n",
       "  2   3   4   5   6   7   8   9  10 \n",
       "  3  11  28  70 152 223 269 168  76 "
      ]
     },
     "metadata": {},
     "output_type": "display_data"
    }
   ],
   "source": [
    "table(rbinom(1000,10,p))"
   ]
  },
  {
   "cell_type": "markdown",
   "metadata": {},
   "source": [
    "### **Question 5 - Pag. 36.** Estimating a normal mean with a discrete prior."
   ]
  },
  {
   "cell_type": "markdown",
   "metadata": {
    "colab_type": "text",
    "deletable": true,
    "editable": true,
    "id": "0nqvNnvukzPa"
   },
   "source": [
    "Suppose you are interested in estimating the average total snowfall per\n",
    "year μ (in inches) for a large city on the East Coast of the United States.\n",
    "\n",
    "Assume individual yearly snow totals $y_{1}, ..., y_{n}$ are collected from a population that is assumed to be normally distributed with mean μ and known\n",
    "standard deviation $σ = 10$ inches.\n",
    "\n",
    "a) Before collecting data, suppose you believe that the mean snowfall μ\n",
    "can be the values 20, 30, 40, 50, 60, and 70 inches with the following\n",
    "probabilities:\n",
    "\n",
    ">μ | 20 | 30 | 40 | 50 | 60 | 70 \n",
    ">--- | --- | --- | --- | --- | --- | --- |\n",
    ">g(μ) | .1 | .15 | .25 | .25 | .15 | .1\n",
    "\n",
    "Place the values of μ in the vector mu and the associated prior probabilities in the vector prior."
   ]
  },
  {
   "cell_type": "code",
   "execution_count": 27,
   "metadata": {
    "colab": {
     "base_uri": "https://localhost:8080/",
     "height": 448
    },
    "colab_type": "code",
    "collapsed": false,
    "deletable": true,
    "editable": true,
    "id": "iYvk8qUQoB8V",
    "outputId": "3b3d7c05-73c0-4485-9aa0-6199cfa72382"
   },
   "outputs": [
    {
     "data": {
      "image/png": "[encoded data removed]",
      "text/plain": [
       "plot without title"
      ]
     },
     "metadata": {},
     "output_type": "display_data"
    }
   ],
   "source": [
    "mu = seq(20, 70, by=10)\n",
    "prior = c(.1,.15,.25,.25,.15,.1)\n",
    "\n",
    "plot(mu, prior, type=\"l\", col=4, lwd=4)"
   ]
  },
  {
   "cell_type": "code",
   "execution_count": 28,
   "metadata": {
    "colab": {
     "base_uri": "https://localhost:8080/",
     "height": 35
    },
    "colab_type": "code",
    "collapsed": false,
    "deletable": true,
    "editable": true,
    "id": "g6DYKn5Wlnt6",
    "outputId": "3600f797-d3bd-49dd-e9b8-2012cd229569"
   },
   "outputs": [
    {
     "data": {
      "text/html": [
       "0.0199635726414487"
      ],
      "text/latex": [
       "0.0199635726414487"
      ],
      "text/markdown": [
       "0.0199635726414487"
      ],
      "text/plain": [
       "[1] 0.01996357"
      ]
     },
     "metadata": {},
     "output_type": "display_data"
    }
   ],
   "source": [
    "2 * min(1-pbinom(8, 20, 0.2), pbinom(8, 20, 0.2))"
   ]
  },
  {
   "cell_type": "markdown",
   "metadata": {},
   "source": [
    "b) Suppose you observe the yearly snowfall totals 38.6, 42.4, 57.5, 40.5,\n",
    "51.7, 67.1, 33.4, 60.9, 64.1, 40.1, 40.7, and 6.4 inches. Enter these data\n",
    "into a vector y and compute the sample mean ybar."
   ]
  },
  {
   "cell_type": "code",
   "execution_count": 30,
   "metadata": {
    "colab": {
     "base_uri": "https://localhost:8080/",
     "height": 453
    },
    "colab_type": "code",
    "collapsed": false,
    "deletable": true,
    "editable": true,
    "id": "JCfzosO1lyG8",
    "outputId": "5956781f-f7bc-45e6-9c49-8c9ebc012a2e"
   },
   "outputs": [
    {
     "data": {
      "image/png": "[encoded data removed]",
      "text/plain": [
       "plot without title"
      ]
     },
     "metadata": {},
     "output_type": "display_data"
    }
   ],
   "source": [
    "y= c(38.6,42.4,57.5,40.5,51.7,67.1,33.4,60.9,64.1,40.1,40.7,6.4)\n",
    "ybar= mean(y)\n",
    "\n",
    "plot(y, type=\"l\", col=4, lwd=3)"
   ]
  },
  {
   "cell_type": "markdown",
   "metadata": {
    "colab_type": "text",
    "deletable": true,
    "editable": true,
    "id": "IVihKlljuF7T"
   },
   "source": [
    "c) In this problem, the likelihood function is given by\n",
    "> $L(μ) ∝ exp (-\\frac{n}{2σ^2} (μ − \\bar y)^2)$\n",
    "\n",
    "where $\\bar y$ is the sample mean. Compute the likelihood on the list of\n",
    "values in mu and place the likelihood values in the vector like."
   ]
  },
  {
   "cell_type": "code",
   "execution_count": 35,
   "metadata": {
    "colab": {
     "base_uri": "https://localhost:8080/",
     "height": 448
    },
    "colab_type": "code",
    "collapsed": false,
    "deletable": true,
    "editable": true,
    "id": "s75w68L5ooB1",
    "outputId": "bab77611-b06f-4768-ca58-cdd03acd3dbb"
   },
   "outputs": [
    {
     "data": {
      "image/png": "[encoded data removed]",
      "text/plain": [
       "plot without title"
      ]
     },
     "metadata": {},
     "output_type": "display_data"
    }
   ],
   "source": [
    "sigma = 10\n",
    "n = length(mu)\n",
    "like = rep(0,n)\n",
    "\n",
    "for (i in 1:n) {\n",
    "  like[i] = exp(1/2*-n/(sigma)^2*(mu[i]-ybar)^2)\n",
    "}\n",
    "\n",
    "plot(mu,like,type=\"l\",col=4,lwd=3)"
   ]
  },
  {
   "cell_type": "markdown",
   "metadata": {
    "colab_type": "text",
    "deletable": true,
    "editable": true,
    "id": "bISLIuWM3RjK"
   },
   "source": [
    "d) One can compute the posterior probabilities for μ using the formula\n",
    "```\n",
    "post = prior * like/sum(prior*like)\n",
    "```\n",
    "Compute the posterior probabilities of μ for this example."
   ]
  },
  {
   "cell_type": "code",
   "execution_count": 36,
   "metadata": {
    "colab": {
     "base_uri": "https://localhost:8080/",
     "height": 448
    },
    "colab_type": "code",
    "collapsed": false,
    "deletable": true,
    "editable": true,
    "id": "ZEqfhwmF3uAc",
    "outputId": "17e9240d-02a8-4ba5-a3ac-9ad2a66fb9d5"
   },
   "outputs": [
    {
     "data": {
      "image/png": "[encoded data removed]",
      "text/plain": [
       "plot without title"
      ]
     },
     "metadata": {},
     "output_type": "display_data"
    }
   ],
   "source": [
    "post = rep(0,n)\n",
    "\n",
    "for (i in 1:n) {\n",
    "  post[i] = prior[i]*like[i]/sum(prior*like)\n",
    "}\n",
    "\n",
    "plot(mu,post,type=\"l\",col=4,lwd=3)"
   ]
  },
  {
   "cell_type": "code",
   "execution_count": 37,
   "metadata": {
    "colab": {
     "base_uri": "https://localhost:8080/",
     "height": 125
    },
    "colab_type": "code",
    "collapsed": false,
    "deletable": true,
    "editable": true,
    "id": "Lq7C7C9x6ZYU",
    "outputId": "f248aa55-2cf7-441f-a735-61cb2bdd1b6a"
   },
   "outputs": [
    {
     "data": {
      "text/html": [
       "<table>\n",
       "<thead><tr><th scope=col>mu</th><th scope=col>post</th></tr></thead>\n",
       "<tbody>\n",
       "\t<tr><td>20          </td><td>1.981176e-09</td></tr>\n",
       "\t<tr><td>30          </td><td>5.732950e-04</td></tr>\n",
       "\t<tr><td>40          </td><td>4.569028e-01</td></tr>\n",
       "\t<tr><td>50          </td><td>5.415692e-01</td></tr>\n",
       "\t<tr><td>60          </td><td>9.547031e-04</td></tr>\n",
       "\t<tr><td>70          </td><td>4.635252e-09</td></tr>\n",
       "</tbody>\n",
       "</table>\n"
      ],
      "text/latex": [
       "\\begin{tabular}{ll}\n",
       " mu & post\\\\\n",
       "\\hline\n",
       "\t 20           & 1.981176e-09\\\\\n",
       "\t 30           & 5.732950e-04\\\\\n",
       "\t 40           & 4.569028e-01\\\\\n",
       "\t 50           & 5.415692e-01\\\\\n",
       "\t 60           & 9.547031e-04\\\\\n",
       "\t 70           & 4.635252e-09\\\\\n",
       "\\end{tabular}\n"
      ],
      "text/markdown": [
       "\n",
       "mu | post | \n",
       "|---|---|---|---|---|---|\n",
       "| 20           | 1.981176e-09 | \n",
       "| 30           | 5.732950e-04 | \n",
       "| 40           | 4.569028e-01 | \n",
       "| 50           | 5.415692e-01 | \n",
       "| 60           | 9.547031e-04 | \n",
       "| 70           | 4.635252e-09 | \n",
       "\n",
       "\n"
      ],
      "text/plain": [
       "     mu post        \n",
       "[1,] 20 1.981176e-09\n",
       "[2,] 30 5.732950e-04\n",
       "[3,] 40 4.569028e-01\n",
       "[4,] 50 5.415692e-01\n",
       "[5,] 60 9.547031e-04\n",
       "[6,] 70 4.635252e-09"
      ]
     },
     "metadata": {},
     "output_type": "display_data"
    }
   ],
   "source": [
    "cbind(mu, post)"
   ]
  },
  {
   "cell_type": "markdown",
   "metadata": {},
   "source": [
    "e) Using the function discint, find an 80% probability interval for μ"
   ]
  },
  {
   "cell_type": "code",
   "execution_count": 44,
   "metadata": {
    "colab": {},
    "colab_type": "code",
    "collapsed": false,
    "deletable": true,
    "editable": true,
    "id": "zL45vGNz4ZuE"
   },
   "outputs": [
    {
     "data": {
      "text/html": [
       "<dl>\n",
       "\t<dt>$prob</dt>\n",
       "\t\t<dd>0.933079510673946</dd>\n",
       "\t<dt>$set</dt>\n",
       "\t\t<dd><ol class=list-inline>\n",
       "\t<li>40</li>\n",
       "\t<li>50</li>\n",
       "\t<li>60</li>\n",
       "</ol>\n",
       "</dd>\n",
       "</dl>\n"
      ],
      "text/latex": [
       "\\begin{description}\n",
       "\\item[\\$prob] 0.933079510673946\n",
       "\\item[\\$set] \\begin{enumerate*}\n",
       "\\item 40\n",
       "\\item 50\n",
       "\\item 60\n",
       "\\end{enumerate*}\n",
       "\n",
       "\\end{description}\n"
      ],
      "text/markdown": [
       "$prob\n",
       ":   0.933079510673946\n",
       "$set\n",
       ":   1. 40\n",
       "2. 50\n",
       "3. 60\n",
       "\n",
       "\n",
       "\n",
       "\n",
       "\n"
      ],
      "text/plain": [
       "$prob\n",
       "[1] 0.9330795\n",
       "\n",
       "$set\n",
       "[1] 40 50 60\n"
      ]
     },
     "metadata": {},
     "output_type": "display_data"
    }
   ],
   "source": [
    "prob = 0.8\n",
    "disc = cbind(mu, post)\n",
    "\n",
    "\n",
    "discint(disc,prob)"
   ]
  },
  {
   "cell_type": "markdown",
   "metadata": {},
   "source": [
    "### **Question 6 - Pag.37** Estimating a Poisson mean using a discrete prior (from Antleman (1996))."
   ]
  },
  {
   "cell_type": "markdown",
   "metadata": {
    "colab_type": "text",
    "deletable": true,
    "editable": true,
    "id": "aMiuQAc5l2dq"
   },
   "source": [
    "Suppose you own a trucking company with a large fleet of trucks. Breakdowns occur randomly in time and the number of breakdowns during an\n",
    "interval of t days is assumed to be Poisson distributed with mean tλ. The\n",
    "parameter λ is the daily breakdown rate. The possible values for λ are\n",
    ".5, 1, 1.5, 2, 2.5, and 3 with respective probabilities .1, .2, .3, .2, .15, and\n",
    ".05. If one observes y breakdowns, then the posterior probability of λ is\n",
    "proportional to:\n",
    "\n",
    "> $g(λ) exp(−tλ)(tλ)^y$\n",
    "\n",
    "where g is the prior probability.\n",
    "\n",
    "a) If 12 trucks break down in a six-day period, find the posterior probabilities for the different rate values."
   ]
  },
  {
   "cell_type": "code",
   "execution_count": 42,
   "metadata": {
    "collapsed": false
   },
   "outputs": [
    {
     "data": {
      "text/html": [
       "<ol class=list-inline>\n",
       "\t<li>0.5</li>\n",
       "\t<li>1</li>\n",
       "\t<li>1.5</li>\n",
       "\t<li>2</li>\n",
       "\t<li>2.5</li>\n",
       "\t<li>3</li>\n",
       "</ol>\n"
      ],
      "text/latex": [
       "\\begin{enumerate*}\n",
       "\\item 0.5\n",
       "\\item 1\n",
       "\\item 1.5\n",
       "\\item 2\n",
       "\\item 2.5\n",
       "\\item 3\n",
       "\\end{enumerate*}\n"
      ],
      "text/markdown": [
       "1. 0.5\n",
       "2. 1\n",
       "3. 1.5\n",
       "4. 2\n",
       "5. 2.5\n",
       "6. 3\n",
       "\n",
       "\n"
      ],
      "text/plain": [
       "[1] 0.5 1.0 1.5 2.0 2.5 3.0"
      ]
     },
     "metadata": {},
     "output_type": "display_data"
    }
   ],
   "source": [
    "lambda"
   ]
  },
  {
   "cell_type": "code",
   "execution_count": 40,
   "metadata": {
    "colab": {},
    "colab_type": "code",
    "collapsed": false,
    "deletable": true,
    "editable": true,
    "id": "RRyOotYEAQu9"
   },
   "outputs": [
    {
     "data": {
      "text/html": [
       "<table>\n",
       "<thead><tr><th scope=col>lambda</th><th scope=col>post</th></tr></thead>\n",
       "<tbody>\n",
       "\t<tr><td>0.5         </td><td>9.021401e-05</td></tr>\n",
       "\t<tr><td>1.0         </td><td>3.679430e-02</td></tr>\n",
       "\t<tr><td>1.5         </td><td>3.565196e-01</td></tr>\n",
       "\t<tr><td>2.0         </td><td>3.735713e-01</td></tr>\n",
       "\t<tr><td>2.5         </td><td>2.029885e-01</td></tr>\n",
       "\t<tr><td>3.0         </td><td>3.003598e-02</td></tr>\n",
       "</tbody>\n",
       "</table>\n"
      ],
      "text/latex": [
       "\\begin{tabular}{ll}\n",
       " lambda & post\\\\\n",
       "\\hline\n",
       "\t 0.5          & 9.021401e-05\\\\\n",
       "\t 1.0          & 3.679430e-02\\\\\n",
       "\t 1.5          & 3.565196e-01\\\\\n",
       "\t 2.0          & 3.735713e-01\\\\\n",
       "\t 2.5          & 2.029885e-01\\\\\n",
       "\t 3.0          & 3.003598e-02\\\\\n",
       "\\end{tabular}\n"
      ],
      "text/markdown": [
       "\n",
       "lambda | post | \n",
       "|---|---|---|---|---|---|\n",
       "| 0.5          | 9.021401e-05 | \n",
       "| 1.0          | 3.679430e-02 | \n",
       "| 1.5          | 3.565196e-01 | \n",
       "| 2.0          | 3.735713e-01 | \n",
       "| 2.5          | 2.029885e-01 | \n",
       "| 3.0          | 3.003598e-02 | \n",
       "\n",
       "\n"
      ],
      "text/plain": [
       "     lambda post        \n",
       "[1,] 0.5    9.021401e-05\n",
       "[2,] 1.0    3.679430e-02\n",
       "[3,] 1.5    3.565196e-01\n",
       "[4,] 2.0    3.735713e-01\n",
       "[5,] 2.5    2.029885e-01\n",
       "[6,] 3.0    3.003598e-02"
      ]
     },
     "metadata": {},
     "output_type": "display_data"
    }
   ],
   "source": [
    "lambda <- seq(0.5,3,by=0.5)\n",
    "prior <- c(0.1,0.2,0.3,0.2,0.15,0.05)\n",
    "\n",
    "y=12; t=6\n",
    "\n",
    "post <- prior * exp(-t*lambda)*(t*lambda)^y/sum(prior*exp(-t*lambda)*(t*lambda)^y)\n",
    "\n",
    "cbind(lambda,post)"
   ]
  },
  {
   "cell_type": "markdown",
   "metadata": {},
   "source": [
    "b) Find the probability that there are no breakdowns during the next\n",
    "week. Hint: If the rate is λ, the conditional probability of no breakdowns during a seven-day period is given by exp{−7λ}. One can compute this predictive probability by multiplying a list of conditional\n",
    "probabilities by the posterior probabilities of λ and finding the sum\n",
    "of the products."
   ]
  },
  {
   "cell_type": "code",
   "execution_count": 41,
   "metadata": {
    "colab": {},
    "colab_type": "code",
    "collapsed": false,
    "deletable": true,
    "editable": true,
    "id": "h69-SMIVAW4y"
   },
   "outputs": [
    {
     "data": {
      "text/html": [
       "<table>\n",
       "<thead><tr><th scope=col>lambda</th><th scope=col>prob</th></tr></thead>\n",
       "<tbody>\n",
       "\t<tr><td>0.5         </td><td>9.405685e-01</td></tr>\n",
       "\t<tr><td>1.0         </td><td>5.680542e-02</td></tr>\n",
       "\t<tr><td>1.5         </td><td>2.573062e-03</td></tr>\n",
       "\t<tr><td>2.0         </td><td>5.179984e-05</td></tr>\n",
       "\t<tr><td>2.5         </td><td>1.173165e-06</td></tr>\n",
       "\t<tr><td>3.0         </td><td>1.180883e-08</td></tr>\n",
       "</tbody>\n",
       "</table>\n"
      ],
      "text/latex": [
       "\\begin{tabular}{ll}\n",
       " lambda & prob\\\\\n",
       "\\hline\n",
       "\t 0.5          & 9.405685e-01\\\\\n",
       "\t 1.0          & 5.680542e-02\\\\\n",
       "\t 1.5          & 2.573062e-03\\\\\n",
       "\t 2.0          & 5.179984e-05\\\\\n",
       "\t 2.5          & 1.173165e-06\\\\\n",
       "\t 3.0          & 1.180883e-08\\\\\n",
       "\\end{tabular}\n"
      ],
      "text/markdown": [
       "\n",
       "lambda | prob | \n",
       "|---|---|---|---|---|---|\n",
       "| 0.5          | 9.405685e-01 | \n",
       "| 1.0          | 5.680542e-02 | \n",
       "| 1.5          | 2.573062e-03 | \n",
       "| 2.0          | 5.179984e-05 | \n",
       "| 2.5          | 1.173165e-06 | \n",
       "| 3.0          | 1.180883e-08 | \n",
       "\n",
       "\n"
      ],
      "text/plain": [
       "     lambda prob        \n",
       "[1,] 0.5    9.405685e-01\n",
       "[2,] 1.0    5.680542e-02\n",
       "[3,] 1.5    2.573062e-03\n",
       "[4,] 2.0    5.179984e-05\n",
       "[5,] 2.5    1.173165e-06\n",
       "[6,] 3.0    1.180883e-08"
      ]
     },
     "metadata": {},
     "output_type": "display_data"
    }
   ],
   "source": [
    "y=0; t=7\n",
    "\n",
    "prob= prior * exp(-t * lambda) * (t * lambda)^y / sum(prior * exp(-t * lambda) * (t * lambda)^y)\n",
    "\n",
    "cbind(lambda,prob)"
   ]
  }
 ],
 "metadata": {
  "colab": {
   "collapsed_sections": [],
   "name": "mate.ipynb",
   "provenance": []
  },
  "kernelspec": {
   "display_name": "R",
   "language": "R",
   "name": "ir"
  },
  "language_info": {
   "codemirror_mode": "r",
   "file_extension": ".r",
   "mimetype": "text/x-r-source",
   "name": "R",
   "pygments_lexer": "r",
   "version": "3.3.3"
  }
 },
 "nbformat": 4,
 "nbformat_minor": 0
}

{
  "nbformat": 4,
  "nbformat_minor": 0,
  "metadata": {
    "colab": {
      "name": "ExercicesPython.ipynb",
      "provenance": [],
      "collapsed_sections": []
    },
    "kernelspec": {
      "name": "python3",
      "display_name": "Python 3"
    }
  },
  "cells": [
    {
      "cell_type": "markdown",
      "metadata": {
        "id": "lwvX-Kk-VoEV",
        "colab_type": "text"
      },
      "source": [
        "# Importing Libraries\n"
      ]
    },
    {
      "cell_type": "code",
      "metadata": {
        "id": "jP6fi3NfJypS",
        "colab_type": "code",
        "colab": {}
      },
      "source": [
        "!pip install rpy2\n",
        "\n",
        "from rpy2.robjects.vectors import StrVector\n",
        "from rpy2.robjects.packages import importr\n",
        "import rpy2.robjects.numpy2ri\n",
        "\n",
        "utils = importr(\"utils\")\n",
        "\n",
        "# Install LearnBayes packages\n",
        "packnames = ('LearnBayes', '')\n",
        "utils.install_packages(StrVector(packnames))\n",
        "\n",
        "# Load LearnBayes packages\n",
        "LearnBayes = importr('LearnBayes')"
      ],
      "execution_count": null,
      "outputs": []
    },
    {
      "cell_type": "code",
      "metadata": {
        "id": "-xL4bI7mv8w8",
        "colab_type": "code",
        "colab": {}
      },
      "source": [
        "from scipy.stats import norm, binom, beta\n",
        "from numpy import array, r_, sqrt, mean, repeat, exp, c_, arange\n",
        "from collections import Counter as table\n",
        "import matplotlib.pyplot as plt\n",
        "\n",
        "plot = plt.plot\n",
        "plt.style.use(\"default\")"
      ],
      "execution_count": 2,
      "outputs": []
    },
    {
      "cell_type": "code",
      "metadata": {
        "id": "a95z30IRANwt",
        "colab_type": "code",
        "colab": {}
      },
      "source": [
        "def qnorm(p,mean=0,sd=1):\n",
        "    return norm.ppf(q=p,loc=mean,scale=sd)\n",
        "\n",
        "def rbinom(n,size,prob=0.5):\n",
        "    return array(binom.rvs(n=size,p=prob,size=n))\n",
        "\n",
        "def c(*data):\n",
        "  return r_[data]\n",
        "\n",
        "def qbeta(p,shape1,shape2):\n",
        "  return beta.ppf(q=p,a=shape1,b=shape2,loc=0,scale=1)\n",
        "\n",
        "def pbinom(q,size,prob=0.5):\n",
        "    return binom.cdf(k=q,n=size,p=prob,loc=0)\n",
        "\n",
        "def pbeta(q,shape1,shape2):\n",
        "  return beta.cdf(x=q,a=shape1,b=shape2,loc=0,scale=1)\n",
        "\n",
        "def rbeta(n,shape1,shape2):\n",
        "   return beta.rvs(size=n,a=shape1,b=shape2,loc=0,scale=1)\n",
        "\n",
        "def seq(start, stop, by):\n",
        "  return arange(start, stop + by, by)\n",
        "\n",
        "def rep(data, n):\n",
        "  return repeat(data, n)\n",
        "\n",
        "def cbind(*data):\n",
        "  return c_[data]\n",
        "\n",
        "def discint(disc, prob):\n",
        "  return array(LearnBayes.discint(disc, prob))  "
      ],
      "execution_count": 3,
      "outputs": []
    },
    {
      "cell_type": "markdown",
      "metadata": {
        "id": "L2xYNADeWLOL",
        "colab_type": "text"
      },
      "source": [
        "#  Exercises developed in Python\n",
        "*Albert, J. Bayesian Computation with R Second Edition Springer 2009*"
      ]
    },
    {
      "cell_type": "markdown",
      "metadata": {
        "id": "2nkAN-sAeqVW",
        "colab_type": "text"
      },
      "source": [
        "### **Question 4 - Pag.16.** Performance of the traditional confidence interval for a proportion"
      ]
    },
    {
      "cell_type": "markdown",
      "metadata": {
        "id": "a0Ej3FK2z9t8",
        "colab_type": "text"
      },
      "source": [
        "\n",
        "Suppose one observes y that is binomially distributed with sample size n\n",
        "and probability of success p. \n",
        "The standard 90% confidence interval for p\n",
        "is given by\n",
        "\n",
        "> $C(y) = (p − 1.645 \\sqrt{\\frac{p(1 − p)}{\n",
        "n}},  p + 1.645 \\sqrt{\\frac{p(1 − p)}{\n",
        "n}})$\n",
        "\n",
        "where $p = \\frac{y}{n} $. We use this procedure under the assumption that\n",
        "> $P(p ∈ C(y)) = 0.90 $ for all  $0 < p < 1$\n",
        "\n",
        "The function binomial.conf.interval will return the limits of a 90%\n",
        "confidence interval given values of y and n.\n",
        "\n",
        "a) Read the function binomial.conf.interval into Python"
      ]
    },
    {
      "cell_type": "code",
      "metadata": {
        "id": "yWfAlTPWwEPB",
        "colab_type": "code",
        "colab": {}
      },
      "source": [
        "def binomial_conf_interval(y,n):\n",
        "  z = qnorm(.95)\n",
        "  phat = y/n\n",
        "  se = sqrt(phat * ( 1 - phat ) / n)\n",
        "  return c(phat - z * se, phat + z * se)"
      ],
      "execution_count": 4,
      "outputs": []
    },
    {
      "cell_type": "markdown",
      "metadata": {
        "id": "gorJIUwb0i-V",
        "colab_type": "text"
      },
      "source": [
        "b) Suppose that samples of size n = 20 are taken and the true value\n",
        "of the proportion is p = .5. Using the rbinom command, simulate\n",
        "a value of y and use binomial.conf.interval to compute the 90%\n",
        "confidence interval. Repeat this a total of 20 times, and estimate the\n",
        "true probability of coverage P(p ∈ C(y))."
      ]
    },
    {
      "cell_type": "code",
      "metadata": {
        "id": "cTo0cQtGB539",
        "colab_type": "code",
        "colab": {
          "base_uri": "https://localhost:8080/",
          "height": 161
        },
        "outputId": "e845e38c-d3a4-419d-de6d-c8a33e46ae63"
      },
      "source": [
        "p = .5\n",
        "n = 20\n",
        "\n",
        "y_bin = rbinom(n, n, p)\n",
        "\n",
        "binomial_conf_interval(y_bin, n)"
      ],
      "execution_count": 5,
      "outputs": [
        {
          "output_type": "execute_result",
          "data": {
            "text/plain": [
              "array([0.21981531, 0.21981531, 0.47457037, 0.26702159, 0.53145266,\n",
              "       0.31609977, 0.36702159, 0.31609977, 0.31609977, 0.26702159,\n",
              "       0.17457037, 0.31609977, 0.21981531, 0.41981531, 0.09073773,\n",
              "       0.26702159, 0.26702159, 0.31609977, 0.26702159, 0.47457037,\n",
              "       0.58018469, 0.58018469, 0.82542963, 0.63297841, 0.86854734,\n",
              "       0.68390023, 0.73297841, 0.68390023, 0.68390023, 0.63297841,\n",
              "       0.52542963, 0.68390023, 0.58018469, 0.78018469, 0.40926227,\n",
              "       0.63297841, 0.63297841, 0.68390023, 0.63297841, 0.82542963])"
            ]
          },
          "metadata": {
            "tags": []
          },
          "execution_count": 5
        }
      ]
    },
    {
      "cell_type": "markdown",
      "metadata": {
        "id": "9nJ061iE0pbk",
        "colab_type": "text"
      },
      "source": [
        "c) Suppose that n = 20 and the true value of the proportion is p = .05.\n",
        "Simulate 20 binomial random variates with n = 20 and p = .05, and\n",
        "for each simulated y compute a 90% confidence interval. Estimate the\n",
        "true probability of coverage."
      ]
    },
    {
      "cell_type": "code",
      "metadata": {
        "id": "LU0oFU6NToj2",
        "colab_type": "code",
        "colab": {
          "base_uri": "https://localhost:8080/",
          "height": 161
        },
        "outputId": "eb77c60d-8e7b-4fb2-b7d6-c10c68257f46"
      },
      "source": [
        "p = .05\n",
        "n = 20\n",
        "\n",
        "y_bin = rbinom(n, n, p)\n",
        "\n",
        "binomial_conf_interval(y_bin, n)"
      ],
      "execution_count": 6,
      "outputs": [
        {
          "output_type": "execute_result",
          "data": {
            "text/plain": [
              "array([-0.03016025, -0.01034014, -0.03016025, -0.01034014, -0.03016025,\n",
              "        0.        , -0.03016025,  0.        ,  0.05287982,  0.        ,\n",
              "        0.        , -0.03016025, -0.01034014,  0.        , -0.03016025,\n",
              "        0.05287982,  0.        ,  0.        ,  0.        , -0.01034014,\n",
              "        0.13016025,  0.21034014,  0.13016025,  0.21034014,  0.13016025,\n",
              "        0.        ,  0.13016025,  0.        ,  0.34712018,  0.        ,\n",
              "        0.        ,  0.13016025,  0.21034014,  0.        ,  0.13016025,\n",
              "        0.34712018,  0.        ,  0.        ,  0.        ,  0.21034014])"
            ]
          },
          "metadata": {
            "tags": []
          },
          "execution_count": 6
        }
      ]
    },
    {
      "cell_type": "markdown",
      "metadata": {
        "id": "wXAN4sZS0ucX",
        "colab_type": "text"
      },
      "source": [
        "### **Question 3 - Pag.36.** Estimating a proportion and prediction of a future sample."
      ]
    },
    {
      "cell_type": "markdown",
      "metadata": {
        "id": "Xs2GAF1ld-1W",
        "colab_type": "text"
      },
      "source": [
        "\n",
        "A study reported on the long-term effects of exposure to low levels of\n",
        "lead in childhood. Researchers analyzed children’s shed primary teeth for\n",
        "lead content. Of the children whose teeth had a lead content of more than\n",
        "22.22 parts per million (ppm), 22 eventually graduated from high school\n",
        "and 7 did not. Suppose your prior density for p, the proportion of all such\n",
        "children who will graduate from high school, is beta(1, 1), and so your\n",
        "posterior density is beta(23, 8).\n",
        "\n",
        "a) Use the function qbeta to find a 90% interval estimate for p."
      ]
    },
    {
      "cell_type": "code",
      "metadata": {
        "id": "r5ICYaiDfKGa",
        "colab_type": "code",
        "colab": {
          "base_uri": "https://localhost:8080/",
          "height": 35
        },
        "outputId": "8457c216-80bb-46a6-ce06-239a38eeb9fb"
      },
      "source": [
        "p = c(0.05, 0.95)\n",
        "\n",
        "qbeta(p, 23, 8)"
      ],
      "execution_count": 7,
      "outputs": [
        {
          "output_type": "execute_result",
          "data": {
            "text/plain": [
              "array([0.60605258, 0.8598149 ])"
            ]
          },
          "metadata": {
            "tags": []
          },
          "execution_count": 7
        }
      ]
    },
    {
      "cell_type": "markdown",
      "metadata": {
        "id": "ZQvk6jGt09co",
        "colab_type": "text"
      },
      "source": [
        "b) Use the function pbeta to find the probability that p exceeds .6"
      ]
    },
    {
      "cell_type": "code",
      "metadata": {
        "id": "wiNN2SJDkaLh",
        "colab_type": "code",
        "colab": {
          "base_uri": "https://localhost:8080/",
          "height": 35
        },
        "outputId": "a65d6769-8c77-462b-b845-4a4d49f417c0"
      },
      "source": [
        "1 - pbeta(.6, 23, 8)"
      ],
      "execution_count": 8,
      "outputs": [
        {
          "output_type": "execute_result",
          "data": {
            "text/plain": [
              "0.9564758810034452"
            ]
          },
          "metadata": {
            "tags": []
          },
          "execution_count": 8
        }
      ]
    },
    {
      "cell_type": "markdown",
      "metadata": {
        "id": "kInpWgdx1Dlr",
        "colab_type": "text"
      },
      "source": [
        "c) Use the function rbeta to take a simulated sample of size 1000 from\n",
        "the posterior distribution of p."
      ]
    },
    {
      "cell_type": "code",
      "metadata": {
        "colab_type": "code",
        "id": "LYv8sGZjkfnG",
        "colab": {
          "base_uri": "https://localhost:8080/",
          "height": 35
        },
        "outputId": "b021221f-62ae-417d-eb90-da1517d30953"
      },
      "source": [
        "p= rbeta(1000, 23, 8)\n",
        "\n",
        "pbeta(c(23,8), 10, c(9,10))"
      ],
      "execution_count": 9,
      "outputs": [
        {
          "output_type": "execute_result",
          "data": {
            "text/plain": [
              "array([1., 1.])"
            ]
          },
          "metadata": {
            "tags": []
          },
          "execution_count": 9
        }
      ]
    },
    {
      "cell_type": "markdown",
      "metadata": {
        "id": "L-ABnduC1TRB",
        "colab_type": "text"
      },
      "source": [
        "d) Suppose you find ten more children who have a lead content of more\n",
        "than 22.22 ppm. Find the predictive probability that nine or ten of\n",
        "them will graduate from high school. (Use your simulated sample from\n",
        "part (c) and the rbinom function to take a simulated sample from the\n",
        "predictive distribution.)"
      ]
    },
    {
      "cell_type": "code",
      "metadata": {
        "colab_type": "code",
        "id": "GeCzVn4IkpXz",
        "colab": {
          "base_uri": "https://localhost:8080/",
          "height": 35
        },
        "outputId": "e573483f-36cd-4c5e-c54b-21060a70d5a1"
      },
      "source": [
        "table(rbinom(1000,10,p))"
      ],
      "execution_count": 10,
      "outputs": [
        {
          "output_type": "execute_result",
          "data": {
            "text/plain": [
              "Counter({2: 2, 3: 10, 4: 34, 5: 78, 6: 145, 7: 222, 8: 254, 9: 182, 10: 73})"
            ]
          },
          "metadata": {
            "tags": []
          },
          "execution_count": 10
        }
      ]
    },
    {
      "cell_type": "markdown",
      "metadata": {
        "id": "zaloXMYP1Yf2",
        "colab_type": "text"
      },
      "source": [
        "###**Question 5 - Pag. 36.** Estimating a normal mean with a discrete prior."
      ]
    },
    {
      "cell_type": "markdown",
      "metadata": {
        "id": "0nqvNnvukzPa",
        "colab_type": "text"
      },
      "source": [
        "Suppose you are interested in estimating the average total snowfall per\n",
        "year μ (in inches) for a large city on the East Coast of the United States.\n",
        "\n",
        "Assume individual yearly snow totals $y_{1}, ..., y_{n}$ are collected from a population that is assumed to be normally distributed with mean μ and known\n",
        "standard deviation $σ = 10$ inches.\n",
        "\n",
        "a) Before collecting data, suppose you believe that the mean snowfall μ\n",
        "can be the values 20, 30, 40, 50, 60, and 70 inches with the following\n",
        "probabilities:\n",
        "\n",
        ">μ | 20 | 30 | 40 | 50 | 60 | 70 \n",
        ">--- | --- | --- | --- | --- | --- | --- |\n",
        ">g(μ) | .1 | .15 | .25 | .25 | .15 | .1\n",
        "\n",
        "Place the values of μ in the vector mu and the associated prior probabilities in the vector prior."
      ]
    },
    {
      "cell_type": "code",
      "metadata": {
        "id": "iYvk8qUQoB8V",
        "colab_type": "code",
        "colab": {
          "base_uri": "https://localhost:8080/",
          "height": 448
        },
        "outputId": "a902d8b3-7f05-41b9-bea3-e81959b31b51"
      },
      "source": [
        "mu = seq(20, 70, by=10)\n",
        "prior = c(.1,.15,.25,.25,.15,.1)\n",
        "\n",
        "plot(mu, prior, lw=4)"
      ],
      "execution_count": 11,
      "outputs": [
        {
          "output_type": "execute_result",
          "data": {
            "text/plain": [
              "[<matplotlib.lines.Line2D at 0x7f00501e7eb8>]"
            ]
          },
          "metadata": {
            "tags": []
          },
          "execution_count": 11
        },
        {
          "output_type": "display_data",
          "data": {
            "image/png": "[encoded data removed]",
            "text/plain": [
              "<Figure size 640x480 with 1 Axes>"
            ]
          },
          "metadata": {
            "tags": []
          }
        }
      ]
    },
    {
      "cell_type": "code",
      "metadata": {
        "id": "g6DYKn5Wlnt6",
        "colab_type": "code",
        "colab": {
          "base_uri": "https://localhost:8080/",
          "height": 35
        },
        "outputId": "aef036f4-6e2e-4b47-d4fd-bd4d535aa85b"
      },
      "source": [
        "2 * min(1-pbinom(8, 20, 0.2), pbinom(8, 20, 0.2))"
      ],
      "execution_count": 12,
      "outputs": [
        {
          "output_type": "execute_result",
          "data": {
            "text/plain": [
              "0.019963572641448657"
            ]
          },
          "metadata": {
            "tags": []
          },
          "execution_count": 12
        }
      ]
    },
    {
      "cell_type": "markdown",
      "metadata": {
        "id": "AedPc1A11s8w",
        "colab_type": "text"
      },
      "source": [
        "b) Suppose you observe the yearly snowfall totals 38.6, 42.4, 57.5, 40.5,\n",
        "51.7, 67.1, 33.4, 60.9, 64.1, 40.1, 40.7, and 6.4 inches. Enter these data\n",
        "into a vector y and compute the sample mean ybar."
      ]
    },
    {
      "cell_type": "code",
      "metadata": {
        "colab_type": "code",
        "id": "JCfzosO1lyG8",
        "colab": {
          "base_uri": "https://localhost:8080/",
          "height": 453
        },
        "outputId": "6111f8e5-2842-42e0-8dd7-01e9b5a329cf"
      },
      "source": [
        "y= c(38.6,42.4,57.5,40.5,51.7,67.1,33.4,60.9,64.1,40.1,40.7,6.4)\n",
        "ybar= mean(y)\n",
        "\n",
        "plot(y, lw=3)"
      ],
      "execution_count": 13,
      "outputs": [
        {
          "output_type": "execute_result",
          "data": {
            "text/plain": [
              "[<matplotlib.lines.Line2D at 0x7f004fd437b8>]"
            ]
          },
          "metadata": {
            "tags": []
          },
          "execution_count": 13
        },
        {
          "output_type": "display_data",
          "data": {
            "image/png": "[encoded data removed]",
            "text/plain": [
              "<Figure size 640x480 with 1 Axes>"
            ]
          },
          "metadata": {
            "tags": []
          }
        }
      ]
    },
    {
      "cell_type": "markdown",
      "metadata": {
        "id": "IVihKlljuF7T",
        "colab_type": "text"
      },
      "source": [
        "c) In this problem, the likelihood function is given by\n",
        "> $L(μ) ∝ exp (-\\frac{n}{2σ^2} (μ − \\bar y)^2)$\n",
        "\n",
        "where $\\bar y$ is the sample mean. Compute the likelihood on the list of\n",
        "values in mu and place the likelihood values in the vector like."
      ]
    },
    {
      "cell_type": "code",
      "metadata": {
        "id": "s75w68L5ooB1",
        "colab_type": "code",
        "colab": {
          "base_uri": "https://localhost:8080/",
          "height": 448
        },
        "outputId": "02da921f-d984-475c-e5a5-37a4400fee08"
      },
      "source": [
        "sigma = 10\n",
        "n = len(mu)\n",
        "like = []\n",
        "\n",
        "for i in range(0, n):\n",
        "  like.append(exp((-n / (2 * (sigma)**2)) * ((mu[i] - ybar)**2)))\n",
        "\n",
        "plot(mu, like, lw=3)"
      ],
      "execution_count": 14,
      "outputs": [
        {
          "output_type": "execute_result",
          "data": {
            "text/plain": [
              "[<matplotlib.lines.Line2D at 0x7f004fcaf860>]"
            ]
          },
          "metadata": {
            "tags": []
          },
          "execution_count": 14
        },
        {
          "output_type": "display_data",
          "data": {
            "image/png": "[encoded data removed]",
            "text/plain": [
              "<Figure size 640x480 with 1 Axes>"
            ]
          },
          "metadata": {
            "tags": []
          }
        }
      ]
    },
    {
      "cell_type": "markdown",
      "metadata": {
        "id": "bISLIuWM3RjK",
        "colab_type": "text"
      },
      "source": [
        "d) One can compute the posterior probabilities for μ using the formula:\n",
        "```\n",
        "post = prior * like/sum(prior*like)\n",
        "```\n",
        "Compute the posterior probabilities of μ for this example."
      ]
    },
    {
      "cell_type": "code",
      "metadata": {
        "id": "ZEqfhwmF3uAc",
        "colab_type": "code",
        "colab": {
          "base_uri": "https://localhost:8080/",
          "height": 448
        },
        "outputId": "258311d8-defa-4988-c503-a5b05e6928d8"
      },
      "source": [
        "post = []\n",
        "for i in range(0,n):\n",
        "  post.append(prior[i] * like[i] / sum(prior*like))\n",
        "\n",
        "plot(mu, post, lw=3)"
      ],
      "execution_count": 15,
      "outputs": [
        {
          "output_type": "execute_result",
          "data": {
            "text/plain": [
              "[<matplotlib.lines.Line2D at 0x7f004fc12860>]"
            ]
          },
          "metadata": {
            "tags": []
          },
          "execution_count": 15
        },
        {
          "output_type": "display_data",
          "data": {
            "image/png": "[encoded data removed]",
            "text/plain": [
              "<Figure size 640x480 with 1 Axes>"
            ]
          },
          "metadata": {
            "tags": []
          }
        }
      ]
    },
    {
      "cell_type": "code",
      "metadata": {
        "id": "Lq7C7C9x6ZYU",
        "colab_type": "code",
        "colab": {
          "base_uri": "https://localhost:8080/",
          "height": 125
        },
        "outputId": "b1927f68-de6f-4cdf-fa76-def497ba9d43"
      },
      "source": [
        "cbind(mu, post)"
      ],
      "execution_count": 16,
      "outputs": [
        {
          "output_type": "execute_result",
          "data": {
            "text/plain": [
              "array([[2.00000000e+01, 1.98117597e-09],\n",
              "       [3.00000000e+01, 5.73295002e-04],\n",
              "       [4.00000000e+01, 4.56902841e-01],\n",
              "       [5.00000000e+01, 5.41569154e-01],\n",
              "       [6.00000000e+01, 9.54703119e-04],\n",
              "       [7.00000000e+01, 4.63525212e-09]])"
            ]
          },
          "metadata": {
            "tags": []
          },
          "execution_count": 16
        }
      ]
    },
    {
      "cell_type": "markdown",
      "metadata": {
        "id": "mSbeWKEFHZI0",
        "colab_type": "text"
      },
      "source": [
        "e) Using the function discint, find an 80% probability interval for μ"
      ]
    },
    {
      "cell_type": "code",
      "metadata": {
        "id": "zL45vGNz4ZuE",
        "colab_type": "code",
        "colab": {
          "base_uri": "https://localhost:8080/",
          "height": 75
        },
        "outputId": "682bc4a0-4ea2-4d4a-9f0c-bbed850784db"
      },
      "source": [
        "rpy2.robjects.numpy2ri.activate()\n",
        "\n",
        "disc = cbind(mu, post)\n",
        "prob = 0.8\n",
        "\n",
        "print(\"$prob: \")\n",
        "discint(disc, prob)[0]"
      ],
      "execution_count": 17,
      "outputs": [
        {
          "output_type": "stream",
          "text": [
            "$prob: \n"
          ],
          "name": "stdout"
        },
        {
          "output_type": "execute_result",
          "data": {
            "text/html": [
              "\n",
              "        <span>FloatVector with 1 elements.</span>\n",
              "        <table>\n",
              "        <tbody>\n",
              "          <tr>\n",
              "          \n",
              "            <td>\n",
              "            0.998472\n",
              "            </td>\n",
              "          \n",
              "          </tr>\n",
              "        </tbody>\n",
              "        </table>\n",
              "        "
            ],
            "text/plain": [
              "R object with classes: ('numeric',) mapped to:\n",
              "[0.998472]"
            ]
          },
          "metadata": {
            "tags": []
          },
          "execution_count": 17
        }
      ]
    },
    {
      "cell_type": "code",
      "metadata": {
        "id": "JS5tm3P4V4N9",
        "colab_type": "code",
        "colab": {
          "base_uri": "https://localhost:8080/",
          "height": 75
        },
        "outputId": "c382203b-2f07-47f8-b6ca-263e8870351f"
      },
      "source": [
        "print(\"$set: \")\n",
        "discint(disc, prob)[1]"
      ],
      "execution_count": 18,
      "outputs": [
        {
          "output_type": "stream",
          "text": [
            "$set: \n"
          ],
          "name": "stdout"
        },
        {
          "output_type": "execute_result",
          "data": {
            "text/html": [
              "\n",
              "        <span>FloatVector with 2 elements.</span>\n",
              "        <table>\n",
              "        <tbody>\n",
              "          <tr>\n",
              "          \n",
              "            <td>\n",
              "            40.000000\n",
              "            </td>\n",
              "          \n",
              "            <td>\n",
              "            50.000000\n",
              "            </td>\n",
              "          \n",
              "          </tr>\n",
              "        </tbody>\n",
              "        </table>\n",
              "        "
            ],
            "text/plain": [
              "R object with classes: ('numeric',) mapped to:\n",
              "[40.000000, 50.000000]"
            ]
          },
          "metadata": {
            "tags": []
          },
          "execution_count": 18
        }
      ]
    },
    {
      "cell_type": "markdown",
      "metadata": {
        "id": "bVx_CVHk14YY",
        "colab_type": "text"
      },
      "source": [
        "### **Question 6 - Pag.37** Estimating a Poisson mean using a discrete prior (from Antleman (1996))."
      ]
    },
    {
      "cell_type": "markdown",
      "metadata": {
        "id": "aMiuQAc5l2dq",
        "colab_type": "text"
      },
      "source": [
        "Suppose you own a trucking company with a large fleet of trucks. Breakdowns occur randomly in time and the number of breakdowns during an\n",
        "interval of t days is assumed to be Poisson distributed with mean tλ. The\n",
        "parameter λ is the daily breakdown rate. The possible values for λ are\n",
        ".5, 1, 1.5, 2, 2.5, and 3 with respective probabilities .1, .2, .3, .2, .15, and\n",
        ".05. If one observes y breakdowns, then the posterior probability of λ is\n",
        "proportional to:\n",
        "\n",
        "> $g(λ) exp(−tλ)(tλ)^y$\n",
        "\n",
        "where g is the prior probability."
      ]
    },
    {
      "cell_type": "markdown",
      "metadata": {
        "id": "t0H70VxPHVdr",
        "colab_type": "text"
      },
      "source": [
        "a) If 12 trucks break down in a six-day period, find the posterior probabilities for the different rate values."
      ]
    },
    {
      "cell_type": "code",
      "metadata": {
        "id": "RRyOotYEAQu9",
        "colab_type": "code",
        "colab": {
          "base_uri": "https://localhost:8080/",
          "height": 125
        },
        "outputId": "3fc3c445-a9b5-4621-cc66-f9292fd145bc"
      },
      "source": [
        "lambda_ = seq(0.5, 3, by=0.5)\n",
        "prior = c(0.1, 0.2, 0.3, 0.2, 0.15, 0.05)\n",
        "\n",
        "y = 12\n",
        "t = 6\n",
        "\n",
        "post = prior * exp(-t * lambda_) * (t * lambda_)**y / sum(prior * exp (-t * lambda_) * (t * lambda_)**y )\n",
        "\n",
        "cbind(lambda_, post)"
      ],
      "execution_count": 19,
      "outputs": [
        {
          "output_type": "execute_result",
          "data": {
            "text/plain": [
              "array([[5.00000000e-01, 9.02140141e-05],\n",
              "       [1.00000000e+00, 3.67942966e-02],\n",
              "       [1.50000000e+00, 3.56519614e-01],\n",
              "       [2.00000000e+00, 3.73571350e-01],\n",
              "       [2.50000000e+00, 2.02988547e-01],\n",
              "       [3.00000000e+00, 3.00359787e-02]])"
            ]
          },
          "metadata": {
            "tags": []
          },
          "execution_count": 19
        }
      ]
    },
    {
      "cell_type": "markdown",
      "metadata": {
        "id": "aD9yyTvqHP5i",
        "colab_type": "text"
      },
      "source": [
        "b) Find the probability that there are no breakdowns during the next\n",
        "week. Hint: If the rate is λ, the conditional probability of no breakdowns during a seven-day period is given by exp{−7λ}. One can compute this predictive probability by multiplying a list of conditional\n",
        "probabilities by the posterior probabilities of λ and finding the sum\n",
        "of the products."
      ]
    },
    {
      "cell_type": "code",
      "metadata": {
        "colab_type": "code",
        "id": "h69-SMIVAW4y",
        "colab": {
          "base_uri": "https://localhost:8080/",
          "height": 125
        },
        "outputId": "8c7c38ec-316f-4ab6-c475-6852ee94c636"
      },
      "source": [
        "y = 0\n",
        "t = 7\n",
        "\n",
        "prob = prior * exp(-t * lambda_) * (t * lambda_)**y / sum(prior * exp(-t * lambda_) * (t * lambda_)**y)\n",
        "\n",
        "cbind(lambda_, prob)"
      ],
      "execution_count": 20,
      "outputs": [
        {
          "output_type": "execute_result",
          "data": {
            "text/plain": [
              "array([[5.00000000e-01, 9.40568535e-01],\n",
              "       [1.00000000e+00, 5.68054174e-02],\n",
              "       [1.50000000e+00, 2.57306245e-03],\n",
              "       [2.00000000e+00, 5.17998357e-05],\n",
              "       [2.50000000e+00, 1.17316462e-06],\n",
              "       [3.00000000e+00, 1.18088340e-08]])"
            ]
          },
          "metadata": {
            "tags": []
          },
          "execution_count": 20
        }
      ]
    }
  ]
}